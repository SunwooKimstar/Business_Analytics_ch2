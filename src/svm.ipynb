{
 "cells": [
  {
   "cell_type": "markdown",
   "metadata": {},
   "source": [
    "## [Tutorial] Support Vector Machines (SVM) "
   ]
  },
  {
   "cell_type": "markdown",
   "metadata": {},
   "source": [
    "* 본 Tutorial은 고려대학교 산업경영공학부 강필성 교수님의 대학원 수업인 Business Analytics 강의 중 SVM 관련 내용을 담고 있습니다. "
   ]
  },
  {
   "cell_type": "code",
   "execution_count": 1,
   "metadata": {},
   "outputs": [],
   "source": [
    "import numpy as np # linear algebra\n",
    "import pandas as pd # data processing\n",
    "import random\n",
    "import seaborn as sns\n",
    "import time\n",
    "import matplotlib.pyplot as plt\n",
    "from sklearn.datasets import load_iris, make_blobs\n",
    "from sklearn.svm import SVC\n",
    "from sklearn.preprocessing import StandardScaler, MinMaxScaler, RobustScaler\n",
    "from sklearn.metrics import classification_report, accuracy_score\n",
    "from sklearn.model_selection import train_test_split\n",
    "%matplotlib inline"
   ]
  },
  {
   "cell_type": "markdown",
   "metadata": {},
   "source": [
    "### 🖍️ 간단한 예시 \n",
    "- 우선 가장 간단하게 X (단변량), y로 이루어진 데이터셋을 이용하여 SVM이 어떤 식으로 적용이 되는지 살펴보도록 하겠습니다."
   ]
  },
  {
   "cell_type": "markdown",
   "metadata": {},
   "source": [
    "#### Step 1 : 데이터셋 생성\n",
    "- scikit-learn의 _make blobs_ 함수를 이용하여 가상 데이터를 생성한다\n",
    "- make_blobs 함수\n",
    "    - n_samples : 표본 데이터의 수\n",
    "    - n_features : 독립 변수의 수\n",
    "    - centers : 생성할 클러스터의 수\n",
    "    - cluster_std : 클러스터의 표준 편차 "
   ]
  },
  {
   "cell_type": "code",
   "execution_count": 2,
   "metadata": {},
   "outputs": [],
   "source": [
    "X, y = make_blobs(n_samples = 100, n_features = 2, centers = 2, random_state = 42, cluster_std = 1.5)"
   ]
  },
  {
   "cell_type": "code",
   "execution_count": 3,
   "metadata": {},
   "outputs": [
    {
     "name": "stdout",
     "output_type": "stream",
     "text": [
      "(100, 3)\n"
     ]
    }
   ],
   "source": [
    "# Add a bias to the X1 vector\n",
    "X_bias = np.ones([X.shape[0], 3])\n",
    "X_bias[:, 1:3] = X\n",
    "print(X_bias.shape)"
   ]
  },
  {
   "cell_type": "markdown",
   "metadata": {},
   "source": [
    "- y는 다음과 같이 0과 1의 값으로 이루어진 것을 확인할 수 있습니다"
   ]
  },
  {
   "cell_type": "code",
   "execution_count": 4,
   "metadata": {},
   "outputs": [
    {
     "name": "stdout",
     "output_type": "stream",
     "text": [
      "(100,)\n"
     ]
    },
    {
     "data": {
      "text/plain": [
       "array([0, 1, 0, 1, 1, 0, 1, 1, 0, 0, 0, 1, 0, 0, 1, 1, 1, 1, 1, 0, 1, 1,\n",
       "       1, 1, 1, 0, 1, 0, 1, 1, 0, 0, 0, 0, 0, 1, 1, 0, 0, 0, 0, 1, 1, 1,\n",
       "       1, 0, 0, 0, 0, 1, 1, 0, 0, 1, 0, 1, 0, 1, 1, 0, 0, 1, 0, 1, 1, 1,\n",
       "       1, 0, 1, 1, 0, 1, 1, 1, 1, 1, 1, 0, 1, 0, 1, 0, 0, 0, 1, 0, 0, 0,\n",
       "       1, 0, 1, 0, 0, 0, 0, 0, 0, 1, 0, 0])"
      ]
     },
     "execution_count": 4,
     "metadata": {},
     "output_type": "execute_result"
    }
   ],
   "source": [
    "print(y.shape)\n",
    "y"
   ]
  },
  {
   "cell_type": "markdown",
   "metadata": {},
   "source": [
    "- 데이터셋의 분포를 보면 크게 두가지로 클러스터로 구분되어 있는 모습을 확인할 수 있습니다."
   ]
  },
  {
   "cell_type": "code",
   "execution_count": 5,
   "metadata": {},
   "outputs": [],
   "source": [
    "X_train, X_test, y_train, y_test = train_test_split(X, y, random_state = 42, test_size = 0.3, shuffle=True)"
   ]
  },
  {
   "cell_type": "code",
   "execution_count": 6,
   "metadata": {},
   "outputs": [
    {
     "name": "stdout",
     "output_type": "stream",
     "text": [
      "X_train : \n",
      " [[ 2.78445277e+00 -7.51523569e-03]\n",
      " [-2.06501721e+00  9.40586904e+00]\n",
      " [-2.68267005e+00  8.56263058e+00]\n",
      " [ 5.42279118e+00  2.41864669e+00]\n",
      " [-3.52458062e+00  9.93180056e+00]] \n",
      "\n",
      "X_test : \n",
      " [[-3.87123374  6.89583058]\n",
      " [ 5.17655988  2.81434647]\n",
      " [-3.20015578 10.59996947]\n",
      " [-0.29235656  8.2368808 ]\n",
      " [ 4.27179666  0.84256544]] \n",
      "\n",
      "y_train : \n",
      " [1 0 0 1 0] \n",
      "\n",
      "y_test : \n",
      " [0 1 0 0 1]\n"
     ]
    }
   ],
   "source": [
    "print('X_train : \\n', X_train[:5], '\\n')\n",
    "print('X_test : \\n', X_test[:5], '\\n')\n",
    "print('y_train : \\n', y_train[:5], '\\n')\n",
    "print('y_test : \\n', y_test[:5])"
   ]
  },
  {
   "cell_type": "code",
   "execution_count": 7,
   "metadata": {},
   "outputs": [
    {
     "data": {
      "text/plain": [
       "Text(0, 0.5, 'y')"
      ]
     },
     "execution_count": 7,
     "metadata": {},
     "output_type": "execute_result"
    },
    {
     "data": {
      "image/png": "[encoded data removed]",
      "text/plain": [
       "<Figure size 432x288 with 1 Axes>"
      ]
     },
     "metadata": {
      "needs_background": "light"
     },
     "output_type": "display_data"
    }
   ],
   "source": [
    "plt.title(\"Train dataset\")\n",
    "sns.scatterplot(x = X_train[:, 0], y = X_train[:, 1], hue = y_train, s = 50, alpha = 0.8, palette = \"hls\")\n",
    "plt.xlabel(\"x\")\n",
    "plt.ylabel(\"y\")"
   ]
  },
  {
   "cell_type": "code",
   "execution_count": 8,
   "metadata": {},
   "outputs": [
    {
     "data": {
      "text/plain": [
       "SVC(C=1000, kernel='linear', random_state=42)"
      ]
     },
     "execution_count": 8,
     "metadata": {},
     "output_type": "execute_result"
    }
   ],
   "source": [
    "clf = SVC(kernel = 'linear', C = 1000, random_state = 42)\n",
    "clf.fit(X_train, y_train)\n"
   ]
  },
  {
   "cell_type": "code",
   "execution_count": 9,
   "metadata": {},
   "outputs": [
    {
     "data": {
      "text/plain": [
       "[<matplotlib.lines.Line2D at 0x7f2c2b4c1f98>]"
      ]
     },
     "execution_count": 9,
     "metadata": {},
     "output_type": "execute_result"
    },
    {
     "data": {
      "image/png": "[encoded data removed]",
      "text/plain": [
       "<Figure size 432x288 with 1 Axes>"
      ]
     },
     "metadata": {
      "needs_background": "light"
     },
     "output_type": "display_data"
    }
   ],
   "source": [
    "plt.title(\"Train dataset\")\n",
    "sns.scatterplot(x = X_train[:, 0], y = X_train[:, 1], hue = y_train, s = 50, alpha = 0.8, palette = \"hls\")\n",
    "plt.xlabel(\"x\")\n",
    "plt.ylabel(\"y\")\n",
    "\n",
    "w = clf.coef_[0]           \n",
    "b = clf.intercept_[0]\n",
    "      \n",
    "x_points = np.linspace(min(X_train[:, 0]), max(X_train[:, 0]))    \n",
    "y_points = -(w[0] / w[1]) * x_points - b / w[1]  \n",
    "plt.plot(x_points, y_points, c='r')"
   ]
  },
  {
   "cell_type": "code",
   "execution_count": 10,
   "metadata": {},
   "outputs": [],
   "source": [
    "# test set에 대해 예측 진행\n",
    "y_pred=clf.predict(X_test)"
   ]
  },
  {
   "cell_type": "code",
   "execution_count": 11,
   "metadata": {},
   "outputs": [
    {
     "name": "stdout",
     "output_type": "stream",
     "text": [
      "Model accuracy score with Linear kernel and C=1000.0 : 1.0000\n"
     ]
    }
   ],
   "source": [
    "# metric 산출\n",
    "print('Model accuracy score with Linear kernel and C=1000.0 : {0:0.4f}'. format(accuracy_score(y_test, y_pred)))"
   ]
  },
  {
   "cell_type": "markdown",
   "metadata": {},
   "source": [
    "### 🖍️ 다양한 데이터셋을 이용한 실험\n",
    "- 간단한 예시를 통해 어떻게 SVM이 적용될 수 있는지 살펴보았습니다. 하지만 X와 y변수가 단순히 숫자형으로 이루어져서 그런지 결과물이 잘 와닿지 않습니다. 그렇다면 이번에는 좀더 직관적인 데이터셋을 이용하여 SVM을 적용시켜 보도록 하겠습니다. "
   ]
  },
  {
   "cell_type": "markdown",
   "metadata": {},
   "source": [
    "#### 📂 **[데이터셋] : Star Dataset for Stellar Classification** \n",
    "- Star의 몇몇 feature들을 포함하고 있는 데이터셋 : [download](https://www.kaggle.com/datasets/vinesmsuic/star-categorization-giants-and-dwarfs)\n",
    "- _TargetClass_ : Star가 Dwarf(0)인지 Giant(1)인지에 대한 라벨\n",
    "- _B-V_ : color index\n",
    "- _Amag_ : Star의 절대적 크기"
   ]
  },
  {
   "cell_type": "markdown",
   "metadata": {},
   "source": [
    "#### Step 1: 데이터셋 불러오기"
   ]
  },
  {
   "cell_type": "code",
   "execution_count": 12,
   "metadata": {},
   "outputs": [
    {
     "data": {
      "text/html": [
       "<div>\n",
       "<style scoped>\n",
       "    .dataframe tbody tr th:only-of-type {\n",
       "        vertical-align: middle;\n",
       "    }\n",
       "\n",
       "    .dataframe tbody tr th {\n",
       "        vertical-align: top;\n",
       "    }\n",
       "\n",
       "    .dataframe thead th {\n",
       "        text-align: right;\n",
       "    }\n",
       "</style>\n",
       "<table border=\"1\" class=\"dataframe\">\n",
       "  <thead>\n",
       "    <tr style=\"text-align: right;\">\n",
       "      <th></th>\n",
       "      <th>Vmag</th>\n",
       "      <th>Plx</th>\n",
       "      <th>e_Plx</th>\n",
       "      <th>B-V</th>\n",
       "      <th>SpType</th>\n",
       "      <th>Amag</th>\n",
       "      <th>TargetClass</th>\n",
       "    </tr>\n",
       "  </thead>\n",
       "  <tbody>\n",
       "    <tr>\n",
       "      <th>0</th>\n",
       "      <td>5.99</td>\n",
       "      <td>13.73</td>\n",
       "      <td>0.58</td>\n",
       "      <td>1.318</td>\n",
       "      <td>K5III</td>\n",
       "      <td>16.678352</td>\n",
       "      <td>0</td>\n",
       "    </tr>\n",
       "    <tr>\n",
       "      <th>1</th>\n",
       "      <td>8.70</td>\n",
       "      <td>2.31</td>\n",
       "      <td>1.29</td>\n",
       "      <td>-0.045</td>\n",
       "      <td>B1II</td>\n",
       "      <td>15.518060</td>\n",
       "      <td>0</td>\n",
       "    </tr>\n",
       "    <tr>\n",
       "      <th>2</th>\n",
       "      <td>5.77</td>\n",
       "      <td>5.50</td>\n",
       "      <td>1.03</td>\n",
       "      <td>0.855</td>\n",
       "      <td>G5III</td>\n",
       "      <td>14.471813</td>\n",
       "      <td>0</td>\n",
       "    </tr>\n",
       "    <tr>\n",
       "      <th>3</th>\n",
       "      <td>6.72</td>\n",
       "      <td>5.26</td>\n",
       "      <td>0.74</td>\n",
       "      <td>-0.015</td>\n",
       "      <td>B7V</td>\n",
       "      <td>15.324928</td>\n",
       "      <td>1</td>\n",
       "    </tr>\n",
       "    <tr>\n",
       "      <th>4</th>\n",
       "      <td>8.76</td>\n",
       "      <td>13.44</td>\n",
       "      <td>1.16</td>\n",
       "      <td>0.584</td>\n",
       "      <td>G0V</td>\n",
       "      <td>19.401997</td>\n",
       "      <td>1</td>\n",
       "    </tr>\n",
       "  </tbody>\n",
       "</table>\n",
       "</div>"
      ],
      "text/plain": [
       "   Vmag    Plx  e_Plx    B-V SpType       Amag  TargetClass\n",
       "0  5.99  13.73   0.58  1.318  K5III  16.678352            0\n",
       "1  8.70   2.31   1.29 -0.045   B1II  15.518060            0\n",
       "2  5.77   5.50   1.03  0.855  G5III  14.471813            0\n",
       "3  6.72   5.26   0.74 -0.015    B7V  15.324928            1\n",
       "4  8.76  13.44   1.16  0.584    G0V  19.401997            1"
      ]
     },
     "execution_count": 12,
     "metadata": {},
     "output_type": "execute_result"
    }
   ],
   "source": [
    "data = '../data/Star3642_balanced.csv'\n",
    "star = pd.read_csv(data)\n",
    "star.head()"
   ]
  },
  {
   "cell_type": "code",
   "execution_count": 13,
   "metadata": {},
   "outputs": [
    {
     "data": {
      "text/plain": [
       "Index(['Vmag', 'Plx', 'e_Plx', 'B-V', 'SpType', 'Amag', 'TargetClass'], dtype='object')"
      ]
     },
     "execution_count": 13,
     "metadata": {},
     "output_type": "execute_result"
    }
   ],
   "source": [
    "colnames = star.columns\n",
    "colnames"
   ]
  },
  {
   "cell_type": "code",
   "execution_count": 14,
   "metadata": {},
   "outputs": [
    {
     "name": "stderr",
     "output_type": "stream",
     "text": [
      "/home/sunwookim/.local/lib/python3.6/site-packages/seaborn/_decorators.py:43: FutureWarning: Pass the following variable as a keyword arg: x. From version 0.12, the only valid positional argument will be `data`, and passing other arguments without an explicit keyword will result in an error or misinterpretation.\n",
      "  FutureWarning\n"
     ]
    },
    {
     "data": {
      "text/plain": [
       "<AxesSubplot:xlabel='TargetClass', ylabel='count'>"
      ]
     },
     "execution_count": 14,
     "metadata": {},
     "output_type": "execute_result"
    },
    {
     "data": {
      "image/png": "[encoded data removed]",
      "text/plain": [
       "<Figure size 432x288 with 1 Axes>"
      ]
     },
     "metadata": {
      "needs_background": "light"
     },
     "output_type": "display_data"
    }
   ],
   "source": [
    "sns.countplot(star['TargetClass'], palette = 'Set2')"
   ]
  },
  {
   "cell_type": "markdown",
   "metadata": {},
   "source": [
    "- 다음과 같이 target label의 경우에는 balance된 형태로 target 분포가 이루어진 것을 확인할 수 있었습니다"
   ]
  },
  {
   "cell_type": "code",
   "execution_count": 15,
   "metadata": {},
   "outputs": [
    {
     "name": "stdout",
     "output_type": "stream",
     "text": [
      "<class 'pandas.core.frame.DataFrame'>\n",
      "RangeIndex: 3642 entries, 0 to 3641\n",
      "Data columns (total 7 columns):\n",
      " #   Column       Non-Null Count  Dtype  \n",
      "---  ------       --------------  -----  \n",
      " 0   Vmag         3642 non-null   float64\n",
      " 1   Plx          3642 non-null   float64\n",
      " 2   e_Plx        3642 non-null   float64\n",
      " 3   B-V          3642 non-null   float64\n",
      " 4   SpType       3642 non-null   object \n",
      " 5   Amag         3642 non-null   float64\n",
      " 6   TargetClass  3642 non-null   int64  \n",
      "dtypes: float64(5), int64(1), object(1)\n",
      "memory usage: 199.3+ KB\n"
     ]
    }
   ],
   "source": [
    "# 데이터셋에 대한 요약을 확인합니다\n",
    "star.info()"
   ]
  },
  {
   "cell_type": "code",
   "execution_count": 16,
   "metadata": {},
   "outputs": [
    {
     "data": {
      "text/plain": [
       "Vmag           0\n",
       "Plx            0\n",
       "e_Plx          0\n",
       "B-V            0\n",
       "SpType         0\n",
       "Amag           0\n",
       "TargetClass    0\n",
       "dtype: int64"
      ]
     },
     "execution_count": 16,
     "metadata": {},
     "output_type": "execute_result"
    }
   ],
   "source": [
    "# 결측치 확인\n",
    "star.isnull().sum()"
   ]
  },
  {
   "cell_type": "code",
   "execution_count": 17,
   "metadata": {},
   "outputs": [
    {
     "data": {
      "text/html": [
       "<div>\n",
       "<style scoped>\n",
       "    .dataframe tbody tr th:only-of-type {\n",
       "        vertical-align: middle;\n",
       "    }\n",
       "\n",
       "    .dataframe tbody tr th {\n",
       "        vertical-align: top;\n",
       "    }\n",
       "\n",
       "    .dataframe thead th {\n",
       "        text-align: right;\n",
       "    }\n",
       "</style>\n",
       "<table border=\"1\" class=\"dataframe\">\n",
       "  <thead>\n",
       "    <tr style=\"text-align: right;\">\n",
       "      <th></th>\n",
       "      <th>Vmag</th>\n",
       "      <th>Plx</th>\n",
       "      <th>e_Plx</th>\n",
       "      <th>B-V</th>\n",
       "      <th>Amag</th>\n",
       "    </tr>\n",
       "  </thead>\n",
       "  <tbody>\n",
       "    <tr>\n",
       "      <th>0</th>\n",
       "      <td>5.99</td>\n",
       "      <td>13.73</td>\n",
       "      <td>0.58</td>\n",
       "      <td>1.318</td>\n",
       "      <td>16.678352</td>\n",
       "    </tr>\n",
       "    <tr>\n",
       "      <th>1</th>\n",
       "      <td>8.70</td>\n",
       "      <td>2.31</td>\n",
       "      <td>1.29</td>\n",
       "      <td>-0.045</td>\n",
       "      <td>15.518060</td>\n",
       "    </tr>\n",
       "    <tr>\n",
       "      <th>2</th>\n",
       "      <td>5.77</td>\n",
       "      <td>5.50</td>\n",
       "      <td>1.03</td>\n",
       "      <td>0.855</td>\n",
       "      <td>14.471813</td>\n",
       "    </tr>\n",
       "    <tr>\n",
       "      <th>3</th>\n",
       "      <td>6.72</td>\n",
       "      <td>5.26</td>\n",
       "      <td>0.74</td>\n",
       "      <td>-0.015</td>\n",
       "      <td>15.324928</td>\n",
       "    </tr>\n",
       "    <tr>\n",
       "      <th>4</th>\n",
       "      <td>8.76</td>\n",
       "      <td>13.44</td>\n",
       "      <td>1.16</td>\n",
       "      <td>0.584</td>\n",
       "      <td>19.401997</td>\n",
       "    </tr>\n",
       "  </tbody>\n",
       "</table>\n",
       "</div>"
      ],
      "text/plain": [
       "   Vmag    Plx  e_Plx    B-V       Amag\n",
       "0  5.99  13.73   0.58  1.318  16.678352\n",
       "1  8.70   2.31   1.29 -0.045  15.518060\n",
       "2  5.77   5.50   1.03  0.855  14.471813\n",
       "3  6.72   5.26   0.74 -0.015  15.324928\n",
       "4  8.76  13.44   1.16  0.584  19.401997"
      ]
     },
     "execution_count": 17,
     "metadata": {},
     "output_type": "execute_result"
    }
   ],
   "source": [
    "X = star.drop(['TargetClass', 'SpType'], axis=1)\n",
    "y = star['TargetClass']\n",
    "X.head()"
   ]
  },
  {
   "cell_type": "code",
   "execution_count": 18,
   "metadata": {},
   "outputs": [
    {
     "data": {
      "text/plain": [
       "0       0\n",
       "1       0\n",
       "2       0\n",
       "3       1\n",
       "4       1\n",
       "       ..\n",
       "3637    0\n",
       "3638    1\n",
       "3639    0\n",
       "3640    1\n",
       "3641    0\n",
       "Name: TargetClass, Length: 3642, dtype: int64"
      ]
     },
     "execution_count": 18,
     "metadata": {},
     "output_type": "execute_result"
    }
   ],
   "source": [
    "y"
   ]
  },
  {
   "cell_type": "code",
   "execution_count": 19,
   "metadata": {},
   "outputs": [
    {
     "data": {
      "text/plain": [
       "((2549, 5), (1093, 5))"
      ]
     },
     "execution_count": 19,
     "metadata": {},
     "output_type": "execute_result"
    }
   ],
   "source": [
    "X_train, X_test, y_train, y_test = train_test_split(X, y, test_size = 0.3, random_state = 42)\n",
    "X_train.shape, X_test.shape"
   ]
  },
  {
   "cell_type": "code",
   "execution_count": 20,
   "metadata": {},
   "outputs": [],
   "source": [
    "colnames = X.columns\n",
    "scaler = StandardScaler()\n",
    "X_train = scaler.fit_transform(X_train)\n",
    "X_test = scaler.transform(X_test)\n",
    "X_train = pd.DataFrame(X_train, columns=[colnames])\n",
    "X_test = pd.DataFrame(X_test, columns=[colnames])"
   ]
  },
  {
   "cell_type": "code",
   "execution_count": 21,
   "metadata": {},
   "outputs": [
    {
     "data": {
      "text/html": [
       "<div>\n",
       "<style scoped>\n",
       "    .dataframe tbody tr th:only-of-type {\n",
       "        vertical-align: middle;\n",
       "    }\n",
       "\n",
       "    .dataframe tbody tr th {\n",
       "        vertical-align: top;\n",
       "    }\n",
       "\n",
       "    .dataframe thead tr th {\n",
       "        text-align: left;\n",
       "    }\n",
       "</style>\n",
       "<table border=\"1\" class=\"dataframe\">\n",
       "  <thead>\n",
       "    <tr>\n",
       "      <th></th>\n",
       "      <th>Vmag</th>\n",
       "      <th>Plx</th>\n",
       "      <th>e_Plx</th>\n",
       "      <th>B-V</th>\n",
       "      <th>Amag</th>\n",
       "    </tr>\n",
       "  </thead>\n",
       "  <tbody>\n",
       "    <tr>\n",
       "      <th>0</th>\n",
       "      <td>-0.965267</td>\n",
       "      <td>-0.480889</td>\n",
       "      <td>-0.474527</td>\n",
       "      <td>-1.780168</td>\n",
       "      <td>-1.374673</td>\n",
       "    </tr>\n",
       "    <tr>\n",
       "      <th>1</th>\n",
       "      <td>-0.168740</td>\n",
       "      <td>-0.408879</td>\n",
       "      <td>-0.203691</td>\n",
       "      <td>0.910813</td>\n",
       "      <td>-0.578879</td>\n",
       "    </tr>\n",
       "    <tr>\n",
       "      <th>2</th>\n",
       "      <td>-2.201782</td>\n",
       "      <td>0.163857</td>\n",
       "      <td>-0.460985</td>\n",
       "      <td>1.288414</td>\n",
       "      <td>-0.541180</td>\n",
       "    </tr>\n",
       "    <tr>\n",
       "      <th>3</th>\n",
       "      <td>-1.678349</td>\n",
       "      <td>1.238993</td>\n",
       "      <td>-0.284942</td>\n",
       "      <td>-0.961273</td>\n",
       "      <td>0.524968</td>\n",
       "    </tr>\n",
       "    <tr>\n",
       "      <th>4</th>\n",
       "      <td>-1.875585</td>\n",
       "      <td>-0.271556</td>\n",
       "      <td>-0.623487</td>\n",
       "      <td>-2.144122</td>\n",
       "      <td>-1.082617</td>\n",
       "    </tr>\n",
       "    <tr>\n",
       "      <th>...</th>\n",
       "      <td>...</td>\n",
       "      <td>...</td>\n",
       "      <td>...</td>\n",
       "      <td>...</td>\n",
       "      <td>...</td>\n",
       "    </tr>\n",
       "    <tr>\n",
       "      <th>2544</th>\n",
       "      <td>0.764336</td>\n",
       "      <td>-0.413065</td>\n",
       "      <td>0.365066</td>\n",
       "      <td>0.508189</td>\n",
       "      <td>-0.081545</td>\n",
       "    </tr>\n",
       "    <tr>\n",
       "      <th>2545</th>\n",
       "      <td>-0.009434</td>\n",
       "      <td>-0.437348</td>\n",
       "      <td>-0.515153</td>\n",
       "      <td>1.154207</td>\n",
       "      <td>-0.615770</td>\n",
       "    </tr>\n",
       "    <tr>\n",
       "      <th>2546</th>\n",
       "      <td>-0.343217</td>\n",
       "      <td>-0.382921</td>\n",
       "      <td>-0.393276</td>\n",
       "      <td>1.684214</td>\n",
       "      <td>-0.574599</td>\n",
       "    </tr>\n",
       "    <tr>\n",
       "      <th>2547</th>\n",
       "      <td>-0.502523</td>\n",
       "      <td>-0.167727</td>\n",
       "      <td>-0.163065</td>\n",
       "      <td>0.251147</td>\n",
       "      <td>-0.094616</td>\n",
       "    </tr>\n",
       "    <tr>\n",
       "      <th>2548</th>\n",
       "      <td>0.438139</td>\n",
       "      <td>-0.635796</td>\n",
       "      <td>-0.284942</td>\n",
       "      <td>0.867593</td>\n",
       "      <td>-3.685747</td>\n",
       "    </tr>\n",
       "  </tbody>\n",
       "</table>\n",
       "<p>2549 rows × 5 columns</p>\n",
       "</div>"
      ],
      "text/plain": [
       "          Vmag       Plx     e_Plx       B-V      Amag\n",
       "0    -0.965267 -0.480889 -0.474527 -1.780168 -1.374673\n",
       "1    -0.168740 -0.408879 -0.203691  0.910813 -0.578879\n",
       "2    -2.201782  0.163857 -0.460985  1.288414 -0.541180\n",
       "3    -1.678349  1.238993 -0.284942 -0.961273  0.524968\n",
       "4    -1.875585 -0.271556 -0.623487 -2.144122 -1.082617\n",
       "...        ...       ...       ...       ...       ...\n",
       "2544  0.764336 -0.413065  0.365066  0.508189 -0.081545\n",
       "2545 -0.009434 -0.437348 -0.515153  1.154207 -0.615770\n",
       "2546 -0.343217 -0.382921 -0.393276  1.684214 -0.574599\n",
       "2547 -0.502523 -0.167727 -0.163065  0.251147 -0.094616\n",
       "2548  0.438139 -0.635796 -0.284942  0.867593 -3.685747\n",
       "\n",
       "[2549 rows x 5 columns]"
      ]
     },
     "execution_count": 21,
     "metadata": {},
     "output_type": "execute_result"
    }
   ],
   "source": [
    "X_train"
   ]
  },
  {
   "cell_type": "code",
   "execution_count": 22,
   "metadata": {},
   "outputs": [
    {
     "data": {
      "text/html": [
       "<div>\n",
       "<style scoped>\n",
       "    .dataframe tbody tr th:only-of-type {\n",
       "        vertical-align: middle;\n",
       "    }\n",
       "\n",
       "    .dataframe tbody tr th {\n",
       "        vertical-align: top;\n",
       "    }\n",
       "\n",
       "    .dataframe thead tr th {\n",
       "        text-align: left;\n",
       "    }\n",
       "</style>\n",
       "<table border=\"1\" class=\"dataframe\">\n",
       "  <thead>\n",
       "    <tr>\n",
       "      <th></th>\n",
       "      <th>Vmag</th>\n",
       "      <th>Plx</th>\n",
       "      <th>e_Plx</th>\n",
       "      <th>B-V</th>\n",
       "      <th>Amag</th>\n",
       "    </tr>\n",
       "  </thead>\n",
       "  <tbody>\n",
       "    <tr>\n",
       "      <th>count</th>\n",
       "      <td>2.549000e+03</td>\n",
       "      <td>2.549000e+03</td>\n",
       "      <td>2.549000e+03</td>\n",
       "      <td>2.549000e+03</td>\n",
       "      <td>2.549000e+03</td>\n",
       "    </tr>\n",
       "    <tr>\n",
       "      <th>mean</th>\n",
       "      <td>1.449518e-16</td>\n",
       "      <td>-8.362606e-18</td>\n",
       "      <td>8.083852e-17</td>\n",
       "      <td>1.672521e-16</td>\n",
       "      <td>-2.648158e-17</td>\n",
       "    </tr>\n",
       "    <tr>\n",
       "      <th>std</th>\n",
       "      <td>1.000196e+00</td>\n",
       "      <td>1.000196e+00</td>\n",
       "      <td>1.000196e+00</td>\n",
       "      <td>1.000196e+00</td>\n",
       "      <td>1.000196e+00</td>\n",
       "    </tr>\n",
       "    <tr>\n",
       "      <th>min</th>\n",
       "      <td>-4.644467e+00</td>\n",
       "      <td>-1.031017e+00</td>\n",
       "      <td>-9.349493e-01</td>\n",
       "      <td>-2.262407e+00</td>\n",
       "      <td>-5.591844e+00</td>\n",
       "    </tr>\n",
       "    <tr>\n",
       "      <th>25%</th>\n",
       "      <td>-5.707965e-01</td>\n",
       "      <td>-4.063667e-01</td>\n",
       "      <td>-4.203598e-01</td>\n",
       "      <td>-7.770216e-01</td>\n",
       "      <td>-5.389421e-01</td>\n",
       "    </tr>\n",
       "    <tr>\n",
       "      <th>50%</th>\n",
       "      <td>1.953873e-01</td>\n",
       "      <td>-2.255028e-01</td>\n",
       "      <td>-1.630651e-01</td>\n",
       "      <td>1.010162e-01</td>\n",
       "      <td>-2.509625e-02</td>\n",
       "    </tr>\n",
       "    <tr>\n",
       "      <th>75%</th>\n",
       "      <td>7.036479e-01</td>\n",
       "      <td>9.100915e-02</td>\n",
       "      <td>1.483970e-01</td>\n",
       "      <td>6.992647e-01</td>\n",
       "      <td>6.609989e-01</td>\n",
       "    </tr>\n",
       "    <tr>\n",
       "      <th>max</th>\n",
       "      <td>3.222193e+00</td>\n",
       "      <td>2.283716e+01</td>\n",
       "      <td>2.851853e+01</td>\n",
       "      <td>3.867935e+00</td>\n",
       "      <td>5.372094e+00</td>\n",
       "    </tr>\n",
       "  </tbody>\n",
       "</table>\n",
       "</div>"
      ],
      "text/plain": [
       "               Vmag           Plx         e_Plx           B-V          Amag\n",
       "count  2.549000e+03  2.549000e+03  2.549000e+03  2.549000e+03  2.549000e+03\n",
       "mean   1.449518e-16 -8.362606e-18  8.083852e-17  1.672521e-16 -2.648158e-17\n",
       "std    1.000196e+00  1.000196e+00  1.000196e+00  1.000196e+00  1.000196e+00\n",
       "min   -4.644467e+00 -1.031017e+00 -9.349493e-01 -2.262407e+00 -5.591844e+00\n",
       "25%   -5.707965e-01 -4.063667e-01 -4.203598e-01 -7.770216e-01 -5.389421e-01\n",
       "50%    1.953873e-01 -2.255028e-01 -1.630651e-01  1.010162e-01 -2.509625e-02\n",
       "75%    7.036479e-01  9.100915e-02  1.483970e-01  6.992647e-01  6.609989e-01\n",
       "max    3.222193e+00  2.283716e+01  2.851853e+01  3.867935e+00  5.372094e+00"
      ]
     },
     "execution_count": 22,
     "metadata": {},
     "output_type": "execute_result"
    }
   ],
   "source": [
    "X_train.describe()"
   ]
  },
  {
   "cell_type": "code",
   "execution_count": 23,
   "metadata": {},
   "outputs": [
    {
     "data": {
      "text/plain": [
       "415     0\n",
       "3252    0\n",
       "3193    1\n",
       "298     0\n",
       "1874    0\n",
       "       ..\n",
       "168     1\n",
       "3377    0\n",
       "962     1\n",
       "945     0\n",
       "462     0\n",
       "Name: TargetClass, Length: 1093, dtype: int64"
      ]
     },
     "execution_count": 23,
     "metadata": {},
     "output_type": "execute_result"
    }
   ],
   "source": [
    "y_test"
   ]
  },
  {
   "cell_type": "markdown",
   "metadata": {},
   "source": [
    "#### Step 2 : model fit"
   ]
  },
  {
   "cell_type": "code",
   "execution_count": 24,
   "metadata": {},
   "outputs": [
    {
     "data": {
      "text/plain": [
       "SVC(C=1000, kernel='linear', random_state=42)"
      ]
     },
     "execution_count": 24,
     "metadata": {},
     "output_type": "execute_result"
    }
   ],
   "source": [
    "clf = SVC(kernel = 'linear', C = 1000, random_state = 42)\n",
    "clf.fit(X_train, y_train)"
   ]
  },
  {
   "cell_type": "markdown",
   "metadata": {},
   "source": [
    "#### Step 3 : test 데이터셋을 이용한 예측"
   ]
  },
  {
   "cell_type": "code",
   "execution_count": 25,
   "metadata": {},
   "outputs": [
    {
     "data": {
      "text/plain": [
       "array([0, 0, 1, ..., 1, 0, 0])"
      ]
     },
     "execution_count": 25,
     "metadata": {},
     "output_type": "execute_result"
    }
   ],
   "source": [
    "y_pred = clf.predict(X_test)\n",
    "y_pred"
   ]
  },
  {
   "cell_type": "markdown",
   "metadata": {},
   "source": [
    "#### Step 4 : metric을 이용한 평가"
   ]
  },
  {
   "cell_type": "code",
   "execution_count": 26,
   "metadata": {},
   "outputs": [
    {
     "name": "stdout",
     "output_type": "stream",
     "text": [
      "Training set score: 0.8988\n",
      "Test set score: 0.8911\n"
     ]
    }
   ],
   "source": [
    "print('Training set score: {:.4f}'.format(clf.score(X_train, y_train)))\n",
    "print('Test set score: {:.4f}'.format(clf.score(X_test, y_test)))"
   ]
  },
  {
   "cell_type": "markdown",
   "metadata": {},
   "source": [
    "#### 🔎 **Hyper-parameter search**\n",
    "\n",
    "- 이번에는 hyper-parameter search를 통해 해당 값에 따라 어떤 식으로 결과에 영향을 미치는지 직접 확인해보도록 하겠습니다"
   ]
  },
  {
   "cell_type": "code",
   "execution_count": 27,
   "metadata": {},
   "outputs": [],
   "source": [
    "from sklearn.model_selection import GridSearchCV\n",
    "from sklearn.svm import SVC\n",
    "svc=SVC() \n",
    "\n",
    "# hyperparameter tuning을 위한 parameter 지정\n",
    "parameters = [ {'C':[1, 10, 100, 1000], 'kernel':['linear']},\n",
    "               {'C':[1, 10, 100, 1000], 'kernel':['rbf'], 'gamma':[0.1, 0.2, 0.3, 0.4, 0.5, 0.6, 0.7, 0.8, 0.9]},\n",
    "               {'C':[1, 10, 100, 1000], 'kernel':['poly'], 'degree': [2,3,4] ,'gamma':[0.01,0.02,0.03,0.04,0.05]} ]"
   ]
  },
  {
   "cell_type": "code",
   "execution_count": 28,
   "metadata": {},
   "outputs": [],
   "source": [
    "grid_search = GridSearchCV(estimator = svc, param_grid = parameters, scoring = 'accuracy', cv = 5,verbose=0)"
   ]
  },
  {
   "cell_type": "code",
   "execution_count": 29,
   "metadata": {},
   "outputs": [
    {
     "data": {
      "text/plain": [
       "GridSearchCV(cv=5, estimator=SVC(),\n",
       "             param_grid=[{'C': [1, 10, 100, 1000], 'kernel': ['linear']},\n",
       "                         {'C': [1, 10, 100, 1000],\n",
       "                          'gamma': [0.1, 0.2, 0.3, 0.4, 0.5, 0.6, 0.7, 0.8,\n",
       "                                    0.9],\n",
       "                          'kernel': ['rbf']},\n",
       "                         {'C': [1, 10, 100, 1000], 'degree': [2, 3, 4],\n",
       "                          'gamma': [0.01, 0.02, 0.03, 0.04, 0.05],\n",
       "                          'kernel': ['poly']}],\n",
       "             scoring='accuracy')"
      ]
     },
     "execution_count": 29,
     "metadata": {},
     "output_type": "execute_result"
    }
   ],
   "source": [
    "grid_search.fit(X_train, y_train)"
   ]
  },
  {
   "cell_type": "code",
   "execution_count": 30,
   "metadata": {},
   "outputs": [
    {
     "name": "stdout",
     "output_type": "stream",
     "text": [
      "{'C': 10, 'gamma': 0.3, 'kernel': 'rbf'}\n"
     ]
    }
   ],
   "source": [
    "print(grid_search.best_params_)"
   ]
  },
  {
   "cell_type": "code",
   "execution_count": 31,
   "metadata": {},
   "outputs": [
    {
     "data": {
      "text/plain": [
       "0.8929551692589204"
      ]
     },
     "execution_count": 31,
     "metadata": {},
     "output_type": "execute_result"
    }
   ],
   "source": [
    "estimator = grid_search.best_estimator_\n",
    "y_pred = estimator.predict(X_test)\n",
    "accuracy_score(y_test, y_pred)"
   ]
  },
  {
   "cell_type": "markdown",
   "metadata": {},
   "source": [
    "- rbf kernel이 가장 성능이 높게 나오고 있음을 확인할 수 있으며 이는 rbf kernel 자체의 특성과 연관시켜 생각해볼 수 있습니다.rbf커널은 특정 샘플을 랜드마크로 정하여 각 샘플이 랜드마크와 얼마나 유사한지를 보고 구하기 때문에 결정경계에 있어 효과적이라고 할 수 있습니다."
   ]
  },
  {
   "cell_type": "markdown",
   "metadata": {},
   "source": [
    "#### 🔎 **Scaling의 영향**\n",
    "- 이번에는 scaling의 영향을 한번 살펴보고자 합니다\n",
    "- SVM은 데이터의 scale에 민감하다는 내용을 일전에 본 적이 있는데 정말 그러한지 확인해보도록 하겠습니다\n",
    "\n",
    "- Scaler는 다음과 같이 3가지를 이용합니다\n",
    "    1. Standard Scaler : 기존 변수를 정규 분포로 변환\n",
    "    2. MinMax scaler : 데이터의 값들을 0~1 사이의 값으로 변환\n",
    "    3. Robust scaler : 중위수 (median) 과 IQR (사분위수) 를 이용하여 변환"
   ]
  },
  {
   "cell_type": "markdown",
   "metadata": {},
   "source": [
    "> ### 가정 : Scaling을 진행하게 되면 진행하지 않았을 시보다 성능 향상이 있을 것이다\n",
    "다음과 같이 가정을 설정하고 실험을 진행해보도록 하겠습니다"
   ]
  },
  {
   "cell_type": "markdown",
   "metadata": {},
   "source": [
    "#### Step 01 : scaler를 이용한 scaling 진행"
   ]
  },
  {
   "cell_type": "code",
   "execution_count": 32,
   "metadata": {},
   "outputs": [],
   "source": [
    "# 각각의 scaler를 이용하여 fit 및 transform을 해줍니다\n",
    "scaler1 = StandardScaler()\n",
    "X_train_sc = scaler1.fit_transform(X_train)\n",
    "X_test_sc = scaler1.transform(X_test)\n",
    "\n",
    "scaler2 = MinMaxScaler()\n",
    "X_train_mm = scaler2.fit_transform(X_train)\n",
    "X_test_mm = scaler2.transform(X_test)\n",
    "\n",
    "scaler3 = RobustScaler()\n",
    "X_train_rb  = scaler3.fit_transform(X_train)\n",
    "X_test_rb = scaler3.transform(X_test)"
   ]
  },
  {
   "cell_type": "markdown",
   "metadata": {},
   "source": [
    "#### Step 02 : model fitting\n",
    "- 기본 파라미터로 설정되어 있는 SVC 함수를 이용하여 model fitting을 진행합니다"
   ]
  },
  {
   "cell_type": "code",
   "execution_count": 33,
   "metadata": {},
   "outputs": [
    {
     "data": {
      "text/plain": [
       "SVC(kernel='linear', random_state=42)"
      ]
     },
     "execution_count": 33,
     "metadata": {},
     "output_type": "execute_result"
    }
   ],
   "source": [
    "clf0 = SVC(kernel = 'linear', C = 1.0, random_state = 42)\n",
    "clf0.fit(X_train, y_train)"
   ]
  },
  {
   "cell_type": "code",
   "execution_count": 34,
   "metadata": {},
   "outputs": [
    {
     "data": {
      "text/plain": [
       "SVC(kernel='linear', random_state=42)"
      ]
     },
     "execution_count": 34,
     "metadata": {},
     "output_type": "execute_result"
    }
   ],
   "source": [
    "clf1 = SVC(kernel = 'linear', C = 1.0, random_state = 42)\n",
    "clf1.fit(X_train_sc, y_train)"
   ]
  },
  {
   "cell_type": "code",
   "execution_count": 35,
   "metadata": {},
   "outputs": [
    {
     "data": {
      "text/plain": [
       "SVC(kernel='linear', random_state=42)"
      ]
     },
     "execution_count": 35,
     "metadata": {},
     "output_type": "execute_result"
    }
   ],
   "source": [
    "clf2 = SVC(kernel = 'linear', C = 1.0, random_state = 42)\n",
    "clf2.fit(X_train_mm, y_train)"
   ]
  },
  {
   "cell_type": "code",
   "execution_count": 36,
   "metadata": {},
   "outputs": [
    {
     "data": {
      "text/plain": [
       "SVC(kernel='linear', random_state=42)"
      ]
     },
     "execution_count": 36,
     "metadata": {},
     "output_type": "execute_result"
    }
   ],
   "source": [
    "clf3 = SVC(kernel = 'linear', C = 1.0, random_state = 42)\n",
    "clf3.fit(X_train_rb, y_train)"
   ]
  },
  {
   "cell_type": "markdown",
   "metadata": {},
   "source": [
    "#### Step 03 : test 데이터셋을 이용한 예측"
   ]
  },
  {
   "cell_type": "code",
   "execution_count": 37,
   "metadata": {},
   "outputs": [],
   "source": [
    "y_pred = clf0.predict(X_test)\n",
    "y_pred_sc = clf1.predict(X_test_sc)\n",
    "y_pred_mm = clf2.predict(X_test_mm)\n",
    "y_pred_rb = clf3.predict(X_test_rb)"
   ]
  },
  {
   "cell_type": "code",
   "execution_count": 38,
   "metadata": {},
   "outputs": [],
   "source": [
    "from sklearn.metrics import roc_curve, roc_auc_score\n",
    "\n",
    "def plot_roc_curve(y_test, y_pred_test):\n",
    "    fpr, tpr, thresholds = roc_curve(y_test, y_pred_test)\n",
    "    plt.figure(figsize=(10,5))\n",
    "    roc_score = roc_auc_score(y_test, y_pred_test)\n",
    "    plt.plot(fpr, tpr, linewidth = 2)\n",
    "    plt.text(0.8, 0.7, 'ROC AUC : {:.4f}'.format(roc_score), size = 12)\n",
    "    plt.plot([0,1], [0,1], 'k--' )\n",
    "    plt.rcParams['font.size'] = 12\n",
    "    plt.title('[Result] ROC curve')\n",
    "    plt.xlabel('FPR (1 - Specificity)')\n",
    "    plt.ylabel('TPR (Sensitivity)')\n",
    "    return plt"
   ]
  },
  {
   "cell_type": "code",
   "execution_count": 39,
   "metadata": {},
   "outputs": [
    {
     "data": {
      "image/png": "[encoded data removed]",
      "text/plain": [
       "<Figure size 720x360 with 1 Axes>"
      ]
     },
     "metadata": {
      "needs_background": "light"
     },
     "output_type": "display_data"
    },
    {
     "data": {
      "image/png": "[encoded data removed]",
      "text/plain": [
       "<Figure size 720x360 with 1 Axes>"
      ]
     },
     "metadata": {
      "needs_background": "light"
     },
     "output_type": "display_data"
    },
    {
     "data": {
      "image/png": "[encoded data removed]",
      "text/plain": [
       "<Figure size 720x360 with 1 Axes>"
      ]
     },
     "metadata": {
      "needs_background": "light"
     },
     "output_type": "display_data"
    },
    {
     "data": {
      "image/png": "[encoded data removed]",
      "text/plain": [
       "<Figure size 720x360 with 1 Axes>"
      ]
     },
     "metadata": {
      "needs_background": "light"
     },
     "output_type": "display_data"
    }
   ],
   "source": [
    "plt0 = plot_roc_curve(y_test, y_pred)\n",
    "plt1 = plot_roc_curve(y_test, y_pred_sc)\n",
    "plt2 = plot_roc_curve(y_test, y_pred_mm)\n",
    "plt3 = plot_roc_curve(y_test, y_pred_rb)"
   ]
  },
  {
   "cell_type": "code",
   "execution_count": 41,
   "metadata": {},
   "outputs": [
    {
     "name": "stdout",
     "output_type": "stream",
     "text": [
      "[Normal] Accuracy score 0.8911\n",
      "[Standard Scaler] Accuracy score 0.8911\n",
      "[MinMax scaler] Accuracy score 0.8930\n",
      "[Robust scaler] Accuracy score 0.8920\n"
     ]
    }
   ],
   "source": [
    "from sklearn import metrics\n",
    "print(\"[Normal] Accuracy score %.4f\" %metrics.accuracy_score(y_test, y_pred))\n",
    "print(\"[Standard Scaler] Accuracy score %.4f\" %metrics.accuracy_score(y_test, y_pred_sc))\n",
    "print(\"[MinMax scaler] Accuracy score %.4f\" %metrics.accuracy_score(y_test, y_pred_mm))\n",
    "print(\"[Robust scaler] Accuracy score %.4f\" %metrics.accuracy_score(y_test, y_pred_rb))"
   ]
  },
  {
   "cell_type": "markdown",
   "metadata": {},
   "source": [
    "- scaling을 진행하지 않은 경우에는 0.8911, standardscaler를 이용한 경우 0.8911, MinMaxScaler를 이용한 경우 0.8930, Robust scaler를 이용한 경우 0.8920으로 약강의 성능 향상이 있긴 했으나 생각보다 크게 차이가 많이 나지 않는 모습을 보였습니다. 데이터 자체의 분포에서 taget이 많이 balancing 되어있었기 때문에 이러한 결과가 나타난 것으로 생각됩니다."
   ]
  }
 ],
 "metadata": {
  "kernelspec": {
   "display_name": "Python 3.6.9 64-bit",
   "language": "python",
   "name": "python3"
  },
  "language_info": {
   "codemirror_mode": {
    "name": "ipython",
    "version": 3
   },
   "file_extension": ".py",
   "mimetype": "text/x-python",
   "name": "python",
   "nbconvert_exporter": "python",
   "pygments_lexer": "ipython3",
   "version": "3.6.9"
  },
  "orig_nbformat": 4,
  "vscode": {
   "interpreter": {
    "hash": "31f2aee4e71d21fbe5cf8b01ff0e069b9275f58929596ceb00d14d90e3e16cd6"
   }
  }
 },
 "nbformat": 4,
 "nbformat_minor": 2
}
